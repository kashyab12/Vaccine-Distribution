{
  "nbformat": 4,
  "nbformat_minor": 0,
  "metadata": {
    "colab": {
      "name": "VaccineDistribution.ipynb",
      "provenance": [],
      "mount_file_id": "1ziPaRf136VZ-qiXulv0luvDpztO-kTzN",
      "authorship_tag": "ABX9TyPs9qtjNsVeHG47QlNJgXkC",
      "include_colab_link": true
    },
    "kernelspec": {
      "name": "python3",
      "display_name": "Python 3"
    },
    "language_info": {
      "name": "python"
    }
  },
  "cells": [
    {
      "cell_type": "markdown",
      "metadata": {
        "id": "view-in-github",
        "colab_type": "text"
      },
      "source": [
        "<a href=\"https://colab.research.google.com/github/kashyab12/Vaccine-Distribution/blob/main/VaccineDistribution.ipynb\" target=\"_parent\"><img src=\"https://colab.research.google.com/assets/colab-badge.svg\" alt=\"Open In Colab\"/></a>"
      ]
    },
    {
      "cell_type": "code",
      "metadata": {
        "id": "tKFJn5-CDSI1"
      },
      "source": [
        "# Import Statements\n",
        "import pandas as pd\n",
        "import numpy as np\n",
        "from matplotlib import pyplot as plt "
      ],
      "execution_count": null,
      "outputs": []
    },
    {
      "cell_type": "markdown",
      "metadata": {
        "id": "CCmDpp7CEvA-"
      },
      "source": [
        "#Importing the Data Set\n",
        "\n",
        "> COVID-19 Data for the United States via [Our World In Data](https://ourworldindata.org/covid-vaccinations)\n",
        "\n"
      ]
    },
    {
      "cell_type": "code",
      "metadata": {
        "colab": {
          "base_uri": "https://localhost:8080/"
        },
        "id": "X3kxA_t0EtfC",
        "outputId": "2fd54158-c9b1-4362-a6da-6ab8fd208bab"
      },
      "source": [
        "# Importing the Data\n",
        "df = pd.read_csv('covid19-data.csv')\n",
        "# Validating Import\n",
        "print(df)"
      ],
      "execution_count": null,
      "outputs": [
        {
          "output_type": "stream",
          "name": "stdout",
          "text": [
            "    iso_code      continent  ... human_development_index excess_mortality\n",
            "0        USA  North America  ...                   0.926              NaN\n",
            "1        USA  North America  ...                   0.926              NaN\n",
            "2        USA  North America  ...                   0.926              NaN\n",
            "3        USA  North America  ...                   0.926              NaN\n",
            "4        USA  North America  ...                   0.926             0.75\n",
            "..       ...            ...  ...                     ...              ...\n",
            "601      USA  North America  ...                   0.926              NaN\n",
            "602      USA  North America  ...                   0.926              NaN\n",
            "603      USA  North America  ...                   0.926              NaN\n",
            "604      USA  North America  ...                   0.926              NaN\n",
            "605      USA  North America  ...                   0.926              NaN\n",
            "\n",
            "[606 rows x 62 columns]\n"
          ]
        }
      ]
    },
    {
      "cell_type": "markdown",
      "metadata": {
        "id": "hZc4zDXUKn-B"
      },
      "source": [
        "#People Vaccinated Per Hundred vs Time"
      ]
    },
    {
      "cell_type": "code",
      "metadata": {
        "colab": {
          "base_uri": "https://localhost:8080/"
        },
        "id": "8qzlubriFYtM",
        "outputId": "54b75dfc-6a95-4df9-e2a2-f9cfbef9013a"
      },
      "source": [
        "# Parsing the People Vaccinate Per Hundred\n",
        "ppl_vaccinated_per_hund = df.people_vaccinated_per_hundred.dropna()\n",
        "# Validating\n",
        "print(ppl_vaccinated_per_hund)"
      ],
      "execution_count": null,
      "outputs": [
        {
          "output_type": "stream",
          "name": "stdout",
          "text": [
            "333     0.17\n",
            "334     0.18\n",
            "336     0.30\n",
            "339     0.58\n",
            "341     0.63\n",
            "       ...  \n",
            "601    62.43\n",
            "602    62.55\n",
            "603    62.65\n",
            "604    62.77\n",
            "605    62.88\n",
            "Name: people_vaccinated_per_hundred, Length: 254, dtype: float64\n"
          ]
        }
      ]
    },
    {
      "cell_type": "code",
      "metadata": {
        "colab": {
          "base_uri": "https://localhost:8080/"
        },
        "id": "5qn0RyKgDaJM",
        "outputId": "76aed0d9-932e-4b67-a84a-34c747a651f1"
      },
      "source": [
        "# Parsing the dates corresponding to the people vaccinated per hundred\n",
        "df['date'] = pd.to_datetime(df['date']) \n",
        "df['date_delta'] = (df['date'] - df['date'].min())  / np.timedelta64(1,'D')\n",
        "ppl_vaccinated_per_hund_date  = [df.loc[df.people_vaccinated_per_hundred == per, 'date_delta'] for per in ppl_vaccinated_per_hund]\n",
        "# Validating\n",
        "print(ppl_vaccinated_per_hund_date)"
      ],
      "execution_count": null,
      "outputs": [
        {
          "output_type": "stream",
          "name": "stdout",
          "text": [
            "[333    333.0\n",
            "Name: date_delta, dtype: float64, 334    334.0\n",
            "Name: date_delta, dtype: float64, 336    336.0\n",
            "Name: date_delta, dtype: float64, 339    339.0\n",
            "Name: date_delta, dtype: float64, 341    341.0\n",
            "Name: date_delta, dtype: float64, 343    343.0\n",
            "Name: date_delta, dtype: float64, 346    346.0\n",
            "Name: date_delta, dtype: float64, 348    348.0\n",
            "Name: date_delta, dtype: float64, 349    349.0\n",
            "Name: date_delta, dtype: float64, 350    350.0\n",
            "Name: date_delta, dtype: float64, 351    351.0\n",
            "Name: date_delta, dtype: float64, 352    352.0\n",
            "Name: date_delta, dtype: float64, 355    355.0\n",
            "Name: date_delta, dtype: float64, 356    356.0\n",
            "Name: date_delta, dtype: float64, 358    358.0\n",
            "Name: date_delta, dtype: float64, 359    359.0\n",
            "Name: date_delta, dtype: float64, 363    363.0\n",
            "Name: date_delta, dtype: float64, 364    364.0\n",
            "Name: date_delta, dtype: float64, 365    365.0\n",
            "Name: date_delta, dtype: float64, 366    366.0\n",
            "Name: date_delta, dtype: float64, 367    367.0\n",
            "Name: date_delta, dtype: float64, 368    368.0\n",
            "Name: date_delta, dtype: float64, 369    369.0\n",
            "Name: date_delta, dtype: float64, 370    370.0\n",
            "Name: date_delta, dtype: float64, 371    371.0\n",
            "Name: date_delta, dtype: float64, 372    372.0\n",
            "Name: date_delta, dtype: float64, 373    373.0\n",
            "Name: date_delta, dtype: float64, 374    374.0\n",
            "Name: date_delta, dtype: float64, 375    375.0\n",
            "Name: date_delta, dtype: float64, 376    376.0\n",
            "Name: date_delta, dtype: float64, 377    377.0\n",
            "Name: date_delta, dtype: float64, 378    378.0\n",
            "Name: date_delta, dtype: float64, 379    379.0\n",
            "Name: date_delta, dtype: float64, 380    380.0\n",
            "Name: date_delta, dtype: float64, 381    381.0\n",
            "Name: date_delta, dtype: float64, 382    382.0\n",
            "Name: date_delta, dtype: float64, 383    383.0\n",
            "Name: date_delta, dtype: float64, 384    384.0\n",
            "Name: date_delta, dtype: float64, 385    385.0\n",
            "Name: date_delta, dtype: float64, 386    386.0\n",
            "Name: date_delta, dtype: float64, 387    387.0\n",
            "Name: date_delta, dtype: float64, 388    388.0\n",
            "Name: date_delta, dtype: float64, 389    389.0\n",
            "Name: date_delta, dtype: float64, 391    391.0\n",
            "Name: date_delta, dtype: float64, 392    392.0\n",
            "Name: date_delta, dtype: float64, 393    393.0\n",
            "Name: date_delta, dtype: float64, 394    394.0\n",
            "Name: date_delta, dtype: float64, 395    395.0\n",
            "Name: date_delta, dtype: float64, 396    396.0\n",
            "Name: date_delta, dtype: float64, 397    397.0\n",
            "Name: date_delta, dtype: float64, 398    398.0\n",
            "Name: date_delta, dtype: float64, 399    399.0\n",
            "Name: date_delta, dtype: float64, 400    400.0\n",
            "Name: date_delta, dtype: float64, 401    401.0\n",
            "Name: date_delta, dtype: float64, 402    402.0\n",
            "Name: date_delta, dtype: float64, 403    403.0\n",
            "Name: date_delta, dtype: float64, 404    404.0\n",
            "Name: date_delta, dtype: float64, 405    405.0\n",
            "Name: date_delta, dtype: float64, 406    406.0\n",
            "Name: date_delta, dtype: float64, 407    407.0\n",
            "Name: date_delta, dtype: float64, 408    408.0\n",
            "Name: date_delta, dtype: float64, 409    409.0\n",
            "Name: date_delta, dtype: float64, 410    410.0\n",
            "Name: date_delta, dtype: float64, 411    411.0\n",
            "Name: date_delta, dtype: float64, 412    412.0\n",
            "Name: date_delta, dtype: float64, 413    413.0\n",
            "Name: date_delta, dtype: float64, 414    414.0\n",
            "Name: date_delta, dtype: float64, 415    415.0\n",
            "Name: date_delta, dtype: float64, 416    416.0\n",
            "Name: date_delta, dtype: float64, 417    417.0\n",
            "Name: date_delta, dtype: float64, 418    418.0\n",
            "Name: date_delta, dtype: float64, 419    419.0\n",
            "Name: date_delta, dtype: float64, 420    420.0\n",
            "Name: date_delta, dtype: float64, 421    421.0\n",
            "Name: date_delta, dtype: float64, 422    422.0\n",
            "Name: date_delta, dtype: float64, 423    423.0\n",
            "Name: date_delta, dtype: float64, 424    424.0\n",
            "Name: date_delta, dtype: float64, 425    425.0\n",
            "Name: date_delta, dtype: float64, 426    426.0\n",
            "Name: date_delta, dtype: float64, 427    427.0\n",
            "Name: date_delta, dtype: float64, 428    428.0\n",
            "Name: date_delta, dtype: float64, 429    429.0\n",
            "Name: date_delta, dtype: float64, 430    430.0\n",
            "Name: date_delta, dtype: float64, 431    431.0\n",
            "Name: date_delta, dtype: float64, 432    432.0\n",
            "Name: date_delta, dtype: float64, 433    433.0\n",
            "Name: date_delta, dtype: float64, 434    434.0\n",
            "Name: date_delta, dtype: float64, 435    435.0\n",
            "Name: date_delta, dtype: float64, 436    436.0\n",
            "Name: date_delta, dtype: float64, 437    437.0\n",
            "Name: date_delta, dtype: float64, 438    438.0\n",
            "Name: date_delta, dtype: float64, 439    439.0\n",
            "Name: date_delta, dtype: float64, 440    440.0\n",
            "Name: date_delta, dtype: float64, 441    441.0\n",
            "Name: date_delta, dtype: float64, 442    442.0\n",
            "Name: date_delta, dtype: float64, 443    443.0\n",
            "Name: date_delta, dtype: float64, 444    444.0\n",
            "Name: date_delta, dtype: float64, 445    445.0\n",
            "Name: date_delta, dtype: float64, 446    446.0\n",
            "Name: date_delta, dtype: float64, 447    447.0\n",
            "Name: date_delta, dtype: float64, 448    448.0\n",
            "Name: date_delta, dtype: float64, 449    449.0\n",
            "Name: date_delta, dtype: float64, 450    450.0\n",
            "Name: date_delta, dtype: float64, 451    451.0\n",
            "Name: date_delta, dtype: float64, 452    452.0\n",
            "Name: date_delta, dtype: float64, 453    453.0\n",
            "Name: date_delta, dtype: float64, 454    454.0\n",
            "Name: date_delta, dtype: float64, 455    455.0\n",
            "Name: date_delta, dtype: float64, 456    456.0\n",
            "Name: date_delta, dtype: float64, 457    457.0\n",
            "Name: date_delta, dtype: float64, 458    458.0\n",
            "Name: date_delta, dtype: float64, 459    459.0\n",
            "Name: date_delta, dtype: float64, 460    460.0\n",
            "Name: date_delta, dtype: float64, 461    461.0\n",
            "Name: date_delta, dtype: float64, 462    462.0\n",
            "Name: date_delta, dtype: float64, 463    463.0\n",
            "Name: date_delta, dtype: float64, 464    464.0\n",
            "Name: date_delta, dtype: float64, 465    465.0\n",
            "Name: date_delta, dtype: float64, 466    466.0\n",
            "Name: date_delta, dtype: float64, 467    467.0\n",
            "Name: date_delta, dtype: float64, 468    468.0\n",
            "Name: date_delta, dtype: float64, 469    469.0\n",
            "Name: date_delta, dtype: float64, 470    470.0\n",
            "Name: date_delta, dtype: float64, 471    471.0\n",
            "Name: date_delta, dtype: float64, 472    472.0\n",
            "Name: date_delta, dtype: float64, 473    473.0\n",
            "Name: date_delta, dtype: float64, 474    474.0\n",
            "Name: date_delta, dtype: float64, 475    475.0\n",
            "Name: date_delta, dtype: float64, 476    476.0\n",
            "Name: date_delta, dtype: float64, 477    477.0\n",
            "Name: date_delta, dtype: float64, 478    478.0\n",
            "Name: date_delta, dtype: float64, 479    479.0\n",
            "Name: date_delta, dtype: float64, 480    480.0\n",
            "Name: date_delta, dtype: float64, 481    481.0\n",
            "Name: date_delta, dtype: float64, 482    482.0\n",
            "Name: date_delta, dtype: float64, 483    483.0\n",
            "Name: date_delta, dtype: float64, 484    484.0\n",
            "Name: date_delta, dtype: float64, 485    485.0\n",
            "Name: date_delta, dtype: float64, 486    486.0\n",
            "Name: date_delta, dtype: float64, 487    487.0\n",
            "Name: date_delta, dtype: float64, 488    488.0\n",
            "Name: date_delta, dtype: float64, 489    489.0\n",
            "Name: date_delta, dtype: float64, 490    490.0\n",
            "Name: date_delta, dtype: float64, 491    491.0\n",
            "Name: date_delta, dtype: float64, 492    492.0\n",
            "Name: date_delta, dtype: float64, 493    493.0\n",
            "Name: date_delta, dtype: float64, 494    494.0\n",
            "Name: date_delta, dtype: float64, 496    496.0\n",
            "Name: date_delta, dtype: float64, 497    497.0\n",
            "Name: date_delta, dtype: float64, 498    498.0\n",
            "Name: date_delta, dtype: float64, 499    499.0\n",
            "Name: date_delta, dtype: float64, 500    500.0\n",
            "Name: date_delta, dtype: float64, 501    501.0\n",
            "Name: date_delta, dtype: float64, 502    502.0\n",
            "Name: date_delta, dtype: float64, 503    503.0\n",
            "Name: date_delta, dtype: float64, 504    504.0\n",
            "Name: date_delta, dtype: float64, 505    505.0\n",
            "Name: date_delta, dtype: float64, 506    506.0\n",
            "Name: date_delta, dtype: float64, 507    507.0\n",
            "Name: date_delta, dtype: float64, 508    508.0\n",
            "Name: date_delta, dtype: float64, 509    509.0\n",
            "Name: date_delta, dtype: float64, 510    510.0\n",
            "Name: date_delta, dtype: float64, 511    511.0\n",
            "Name: date_delta, dtype: float64, 512    512.0\n",
            "Name: date_delta, dtype: float64, 513    513.0\n",
            "Name: date_delta, dtype: float64, 514    514.0\n",
            "Name: date_delta, dtype: float64, 515    515.0\n",
            "Name: date_delta, dtype: float64, 516    516.0\n",
            "Name: date_delta, dtype: float64, 517    517.0\n",
            "Name: date_delta, dtype: float64, 518    518.0\n",
            "Name: date_delta, dtype: float64, 519    519.0\n",
            "Name: date_delta, dtype: float64, 520    520.0\n",
            "Name: date_delta, dtype: float64, 521    521.0\n",
            "Name: date_delta, dtype: float64, 522    522.0\n",
            "Name: date_delta, dtype: float64, 523    523.0\n",
            "Name: date_delta, dtype: float64, 524    524.0\n",
            "Name: date_delta, dtype: float64, 525    525.0\n",
            "Name: date_delta, dtype: float64, 526    526.0\n",
            "Name: date_delta, dtype: float64, 527    527.0\n",
            "Name: date_delta, dtype: float64, 528    528.0\n",
            "Name: date_delta, dtype: float64, 529    529.0\n",
            "Name: date_delta, dtype: float64, 531    531.0\n",
            "Name: date_delta, dtype: float64, 532    532.0\n",
            "Name: date_delta, dtype: float64, 533    533.0\n",
            "Name: date_delta, dtype: float64, 534    534.0\n",
            "Name: date_delta, dtype: float64, 535    535.0\n",
            "Name: date_delta, dtype: float64, 536    536.0\n",
            "Name: date_delta, dtype: float64, 537    537.0\n",
            "Name: date_delta, dtype: float64, 538    538.0\n",
            "Name: date_delta, dtype: float64, 539    539.0\n",
            "Name: date_delta, dtype: float64, 540    540.0\n",
            "Name: date_delta, dtype: float64, 541    541.0\n",
            "Name: date_delta, dtype: float64, 542    542.0\n",
            "Name: date_delta, dtype: float64, 543    543.0\n",
            "Name: date_delta, dtype: float64, 544    544.0\n",
            "Name: date_delta, dtype: float64, 545    545.0\n",
            "Name: date_delta, dtype: float64, 546    546.0\n",
            "Name: date_delta, dtype: float64, 547    547.0\n",
            "Name: date_delta, dtype: float64, 548    548.0\n",
            "Name: date_delta, dtype: float64, 549    549.0\n",
            "Name: date_delta, dtype: float64, 550    550.0\n",
            "Name: date_delta, dtype: float64, 551    551.0\n",
            "Name: date_delta, dtype: float64, 552    552.0\n",
            "Name: date_delta, dtype: float64, 553    553.0\n",
            "Name: date_delta, dtype: float64, 554    554.0\n",
            "Name: date_delta, dtype: float64, 555    555.0\n",
            "Name: date_delta, dtype: float64, 556    556.0\n",
            "Name: date_delta, dtype: float64, 557    557.0\n",
            "Name: date_delta, dtype: float64, 558    558.0\n",
            "Name: date_delta, dtype: float64, 559    559.0\n",
            "Name: date_delta, dtype: float64, 560    560.0\n",
            "Name: date_delta, dtype: float64, 561    561.0\n",
            "Name: date_delta, dtype: float64, 562    562.0\n",
            "Name: date_delta, dtype: float64, 563    563.0\n",
            "Name: date_delta, dtype: float64, 564    564.0\n",
            "Name: date_delta, dtype: float64, 565    565.0\n",
            "Name: date_delta, dtype: float64, 566    566.0\n",
            "Name: date_delta, dtype: float64, 567    567.0\n",
            "Name: date_delta, dtype: float64, 568    568.0\n",
            "Name: date_delta, dtype: float64, 569    569.0\n",
            "Name: date_delta, dtype: float64, 570    570.0\n",
            "Name: date_delta, dtype: float64, 571    571.0\n",
            "Name: date_delta, dtype: float64, 572    572.0\n",
            "Name: date_delta, dtype: float64, 573    573.0\n",
            "Name: date_delta, dtype: float64, 574    574.0\n",
            "Name: date_delta, dtype: float64, 575    575.0\n",
            "Name: date_delta, dtype: float64, 576    576.0\n",
            "Name: date_delta, dtype: float64, 577    577.0\n",
            "Name: date_delta, dtype: float64, 578    578.0\n",
            "Name: date_delta, dtype: float64, 579    579.0\n",
            "Name: date_delta, dtype: float64, 580    580.0\n",
            "Name: date_delta, dtype: float64, 581    581.0\n",
            "Name: date_delta, dtype: float64, 582    582.0\n",
            "Name: date_delta, dtype: float64, 583    583.0\n",
            "Name: date_delta, dtype: float64, 584    584.0\n",
            "Name: date_delta, dtype: float64, 585    585.0\n",
            "Name: date_delta, dtype: float64, 586    586.0\n",
            "Name: date_delta, dtype: float64, 587    587.0\n",
            "Name: date_delta, dtype: float64, 588    588.0\n",
            "Name: date_delta, dtype: float64, 589    589.0\n",
            "Name: date_delta, dtype: float64, 590    590.0\n",
            "Name: date_delta, dtype: float64, 591    591.0\n",
            "Name: date_delta, dtype: float64, 594    594.0\n",
            "Name: date_delta, dtype: float64, 595    595.0\n",
            "Name: date_delta, dtype: float64, 596    596.0\n",
            "Name: date_delta, dtype: float64, 597    597.0\n",
            "Name: date_delta, dtype: float64, 598    598.0\n",
            "Name: date_delta, dtype: float64, 599    599.0\n",
            "Name: date_delta, dtype: float64, 600    600.0\n",
            "Name: date_delta, dtype: float64, 601    601.0\n",
            "Name: date_delta, dtype: float64, 602    602.0\n",
            "Name: date_delta, dtype: float64, 603    603.0\n",
            "Name: date_delta, dtype: float64, 604    604.0\n",
            "Name: date_delta, dtype: float64, 605    605.0\n",
            "Name: date_delta, dtype: float64]\n"
          ]
        }
      ]
    },
    {
      "cell_type": "code",
      "metadata": {
        "colab": {
          "base_uri": "https://localhost:8080/"
        },
        "id": "QiOuTTQMN7dW",
        "outputId": "1ebcc413-6dde-44da-de0e-39c4ce31e97c"
      },
      "source": [
        "# Converting parsed data into a numpy array\n",
        "ppl_vaccinated_per_hund = ppl_vaccinated_per_hund.to_numpy()\n",
        "ppl_vaccinated_per_hund_date = np.array(ppl_vaccinated_per_hund_date)\n",
        "ppl_vaccinated_per_hund_date = ppl_vaccinated_per_hund_date.reshape(254)\n",
        "\n",
        "print(ppl_vaccinated_per_hund)\n",
        "print(ppl_vaccinated_per_hund_date)"
      ],
      "execution_count": null,
      "outputs": [
        {
          "output_type": "stream",
          "name": "stdout",
          "text": [
            "[ 0.17  0.18  0.3   0.58  0.63  0.83  1.26  1.36  1.44  1.58  1.76  1.99\n",
            "  2.67  2.77  2.88  3.15  4.04  4.24  4.48  4.83  5.17  5.5   5.72  5.92\n",
            "  6.15  6.45  6.8   7.16  7.49  7.74  7.86  8.07  8.3   8.6   8.99  9.39\n",
            "  9.62  9.77 10.04 10.32 10.65 11.02 11.39 11.8  11.97 12.2  12.48 12.73\n",
            " 12.97 13.12 13.24 13.45 13.7  14.03 14.4  14.8  15.08 15.39 15.72 16.07\n",
            " 16.52 17.05 17.51 17.84 18.16 18.57 19.05 19.61 20.48 20.75 21.13 21.45\n",
            " 21.9  22.45 22.96 23.6  24.21 24.61 24.96 25.41 25.97 26.63 27.27 27.84\n",
            " 28.25 28.56 29.02 29.6  30.27 30.99 31.58 31.97 32.2  32.71 33.32 34.03\n",
            " 34.83 35.45 35.93 36.36 36.84 37.41 37.98 38.5  39.02 39.34 39.62 39.97\n",
            " 40.37 40.8  41.22 41.62 41.91 42.15 42.43 42.75 43.08 43.48 43.72 43.86\n",
            " 43.97 44.17 44.44 44.72 44.99 45.23 45.44 45.63 45.79 45.97 46.16 46.45\n",
            " 46.72 46.93 47.09 47.33 47.63 47.95 48.31 48.56 48.73 48.87 49.08 49.27\n",
            " 49.47 49.7  49.87 50.1  50.17 50.28 50.47 50.63 50.79 50.94 51.06 51.16\n",
            " 51.27 51.37 51.55 51.69 51.81 51.94 52.05 52.29 52.42 52.55 52.65 52.73\n",
            " 52.82 52.91 53.02 53.07 53.18 53.3  53.41 53.5  53.72 53.92 54.01 54.15\n",
            " 54.24 54.33 54.38 54.48 54.57 54.66 54.75 54.82 54.87 54.96 55.05 55.13\n",
            " 55.23 55.32 55.4  55.44 55.55 55.67 55.77 55.89 56.04 56.12 56.19 56.34\n",
            " 56.48 56.64 56.79 56.94 57.03 57.12 57.27 57.44 57.61 57.79 57.94 58.05\n",
            " 58.17 58.3  58.43 58.6  58.78 58.9  59.05 59.15 59.27 59.43 59.59 59.75\n",
            " 59.89 59.98 60.07 60.21 60.35 60.5  60.65 60.79 60.88 60.96 61.11 61.22\n",
            " 61.39 61.52 61.72 61.85 61.94 62.05 62.17 62.27 62.35 62.43 62.55 62.65\n",
            " 62.77 62.88]\n",
            "[333. 334. 336. 339. 341. 343. 346. 348. 349. 350. 351. 352. 355. 356.\n",
            " 358. 359. 363. 364. 365. 366. 367. 368. 369. 370. 371. 372. 373. 374.\n",
            " 375. 376. 377. 378. 379. 380. 381. 382. 383. 384. 385. 386. 387. 388.\n",
            " 389. 391. 392. 393. 394. 395. 396. 397. 398. 399. 400. 401. 402. 403.\n",
            " 404. 405. 406. 407. 408. 409. 410. 411. 412. 413. 414. 415. 416. 417.\n",
            " 418. 419. 420. 421. 422. 423. 424. 425. 426. 427. 428. 429. 430. 431.\n",
            " 432. 433. 434. 435. 436. 437. 438. 439. 440. 441. 442. 443. 444. 445.\n",
            " 446. 447. 448. 449. 450. 451. 452. 453. 454. 455. 456. 457. 458. 459.\n",
            " 460. 461. 462. 463. 464. 465. 466. 467. 468. 469. 470. 471. 472. 473.\n",
            " 474. 475. 476. 477. 478. 479. 480. 481. 482. 483. 484. 485. 486. 487.\n",
            " 488. 489. 490. 491. 492. 493. 494. 496. 497. 498. 499. 500. 501. 502.\n",
            " 503. 504. 505. 506. 507. 508. 509. 510. 511. 512. 513. 514. 515. 516.\n",
            " 517. 518. 519. 520. 521. 522. 523. 524. 525. 526. 527. 528. 529. 531.\n",
            " 532. 533. 534. 535. 536. 537. 538. 539. 540. 541. 542. 543. 544. 545.\n",
            " 546. 547. 548. 549. 550. 551. 552. 553. 554. 555. 556. 557. 558. 559.\n",
            " 560. 561. 562. 563. 564. 565. 566. 567. 568. 569. 570. 571. 572. 573.\n",
            " 574. 575. 576. 577. 578. 579. 580. 581. 582. 583. 584. 585. 586. 587.\n",
            " 588. 589. 590. 591. 594. 595. 596. 597. 598. 599. 600. 601. 602. 603.\n",
            " 604. 605.]\n"
          ]
        }
      ]
    },
    {
      "cell_type": "markdown",
      "metadata": {
        "id": "XxTxFW2pFgDi"
      },
      "source": [
        "#Plotting the relation"
      ]
    },
    {
      "cell_type": "code",
      "metadata": {
        "colab": {
          "base_uri": "https://localhost:8080/",
          "height": 295
        },
        "id": "kNdqCX_CDk0S",
        "outputId": "4cf1aa53-afdd-4c93-89fe-52e3ddc71df7"
      },
      "source": [
        "plt.title(\"People Vaccinated Per Hundred vs Time\") \n",
        "plt.xlabel(\"Date Delta\") \n",
        "plt.ylabel(\"People Vaccinated per Hundred\") \n",
        "plt.plot(ppl_vaccinated_per_hund_date,ppl_vaccinated_per_hund) \n",
        "plt.show()"
      ],
      "execution_count": null,
      "outputs": [
        {
          "output_type": "display_data",
          "data": {
            "image/png": "[encoded data removed]",
            "text/plain": [
              "<Figure size 432x288 with 1 Axes>"
            ]
          },
          "metadata": {
            "needs_background": "light"
          }
        }
      ]
    },
    {
      "cell_type": "markdown",
      "metadata": {
        "id": "eR2SMJ1kG4Gr"
      },
      "source": [
        "#Linear Regression via ordinary LSM"
      ]
    },
    {
      "cell_type": "markdown",
      "metadata": {
        "id": "BpoUqgEXHFCb"
      },
      "source": [
        "##Import Statements"
      ]
    },
    {
      "cell_type": "code",
      "metadata": {
        "id": "eLuXG_6uGMIS"
      },
      "source": [
        "from sklearn import datasets, linear_model\n",
        "from sklearn.metrics import mean_squared_error, r2_score"
      ],
      "execution_count": null,
      "outputs": []
    },
    {
      "cell_type": "markdown",
      "metadata": {
        "id": "0z2qpwPwHJSi"
      },
      "source": [
        "##Splitting training and testing set"
      ]
    },
    {
      "cell_type": "code",
      "metadata": {
        "colab": {
          "base_uri": "https://localhost:8080/"
        },
        "id": "-BbRA2LlHHpe",
        "outputId": "81536b31-9201-4b8c-9744-5f41f5ec0e3f"
      },
      "source": [
        "# Split the data into training/testing sets\n",
        "date_x_train = ppl_vaccinated_per_hund_date[:-20]\n",
        "date_x_test = ppl_vaccinated_per_hund_date[-20:]\n",
        "\n",
        "# Split the targets into training/testing sets\n",
        "vacc_y_train = ppl_vaccinated_per_hund[:-20]\n",
        "vacc_y_test = ppl_vaccinated_per_hund[-20:]\n",
        "\n",
        "# Reshaping Data\n",
        "date_x_train = date_x_train.reshape(-1, 1)\n",
        "date_x_test = date_x_test.reshape(-1, 1)\n",
        "\n",
        "vacc_y_train = vacc_y_train.reshape(-1, 1)\n",
        "vacc_y_test = vacc_y_test.reshape(-1, 1)\n",
        "\n",
        "# Validating\n",
        "\n",
        "print(date_x_train)"
      ],
      "execution_count": null,
      "outputs": [
        {
          "output_type": "stream",
          "name": "stdout",
          "text": [
            "[[333.]\n",
            " [334.]\n",
            " [336.]\n",
            " [339.]\n",
            " [341.]\n",
            " [343.]\n",
            " [346.]\n",
            " [348.]\n",
            " [349.]\n",
            " [350.]\n",
            " [351.]\n",
            " [352.]\n",
            " [355.]\n",
            " [356.]\n",
            " [358.]\n",
            " [359.]\n",
            " [363.]\n",
            " [364.]\n",
            " [365.]\n",
            " [366.]\n",
            " [367.]\n",
            " [368.]\n",
            " [369.]\n",
            " [370.]\n",
            " [371.]\n",
            " [372.]\n",
            " [373.]\n",
            " [374.]\n",
            " [375.]\n",
            " [376.]\n",
            " [377.]\n",
            " [378.]\n",
            " [379.]\n",
            " [380.]\n",
            " [381.]\n",
            " [382.]\n",
            " [383.]\n",
            " [384.]\n",
            " [385.]\n",
            " [386.]\n",
            " [387.]\n",
            " [388.]\n",
            " [389.]\n",
            " [391.]\n",
            " [392.]\n",
            " [393.]\n",
            " [394.]\n",
            " [395.]\n",
            " [396.]\n",
            " [397.]\n",
            " [398.]\n",
            " [399.]\n",
            " [400.]\n",
            " [401.]\n",
            " [402.]\n",
            " [403.]\n",
            " [404.]\n",
            " [405.]\n",
            " [406.]\n",
            " [407.]\n",
            " [408.]\n",
            " [409.]\n",
            " [410.]\n",
            " [411.]\n",
            " [412.]\n",
            " [413.]\n",
            " [414.]\n",
            " [415.]\n",
            " [416.]\n",
            " [417.]\n",
            " [418.]\n",
            " [419.]\n",
            " [420.]\n",
            " [421.]\n",
            " [422.]\n",
            " [423.]\n",
            " [424.]\n",
            " [425.]\n",
            " [426.]\n",
            " [427.]\n",
            " [428.]\n",
            " [429.]\n",
            " [430.]\n",
            " [431.]\n",
            " [432.]\n",
            " [433.]\n",
            " [434.]\n",
            " [435.]\n",
            " [436.]\n",
            " [437.]\n",
            " [438.]\n",
            " [439.]\n",
            " [440.]\n",
            " [441.]\n",
            " [442.]\n",
            " [443.]\n",
            " [444.]\n",
            " [445.]\n",
            " [446.]\n",
            " [447.]\n",
            " [448.]\n",
            " [449.]\n",
            " [450.]\n",
            " [451.]\n",
            " [452.]\n",
            " [453.]\n",
            " [454.]\n",
            " [455.]\n",
            " [456.]\n",
            " [457.]\n",
            " [458.]\n",
            " [459.]\n",
            " [460.]\n",
            " [461.]\n",
            " [462.]\n",
            " [463.]\n",
            " [464.]\n",
            " [465.]\n",
            " [466.]\n",
            " [467.]\n",
            " [468.]\n",
            " [469.]\n",
            " [470.]\n",
            " [471.]\n",
            " [472.]\n",
            " [473.]\n",
            " [474.]\n",
            " [475.]\n",
            " [476.]\n",
            " [477.]\n",
            " [478.]\n",
            " [479.]\n",
            " [480.]\n",
            " [481.]\n",
            " [482.]\n",
            " [483.]\n",
            " [484.]\n",
            " [485.]\n",
            " [486.]\n",
            " [487.]\n",
            " [488.]\n",
            " [489.]\n",
            " [490.]\n",
            " [491.]\n",
            " [492.]\n",
            " [493.]\n",
            " [494.]\n",
            " [496.]\n",
            " [497.]\n",
            " [498.]\n",
            " [499.]\n",
            " [500.]\n",
            " [501.]\n",
            " [502.]\n",
            " [503.]\n",
            " [504.]\n",
            " [505.]\n",
            " [506.]\n",
            " [507.]\n",
            " [508.]\n",
            " [509.]\n",
            " [510.]\n",
            " [511.]\n",
            " [512.]\n",
            " [513.]\n",
            " [514.]\n",
            " [515.]\n",
            " [516.]\n",
            " [517.]\n",
            " [518.]\n",
            " [519.]\n",
            " [520.]\n",
            " [521.]\n",
            " [522.]\n",
            " [523.]\n",
            " [524.]\n",
            " [525.]\n",
            " [526.]\n",
            " [527.]\n",
            " [528.]\n",
            " [529.]\n",
            " [531.]\n",
            " [532.]\n",
            " [533.]\n",
            " [534.]\n",
            " [535.]\n",
            " [536.]\n",
            " [537.]\n",
            " [538.]\n",
            " [539.]\n",
            " [540.]\n",
            " [541.]\n",
            " [542.]\n",
            " [543.]\n",
            " [544.]\n",
            " [545.]\n",
            " [546.]\n",
            " [547.]\n",
            " [548.]\n",
            " [549.]\n",
            " [550.]\n",
            " [551.]\n",
            " [552.]\n",
            " [553.]\n",
            " [554.]\n",
            " [555.]\n",
            " [556.]\n",
            " [557.]\n",
            " [558.]\n",
            " [559.]\n",
            " [560.]\n",
            " [561.]\n",
            " [562.]\n",
            " [563.]\n",
            " [564.]\n",
            " [565.]\n",
            " [566.]\n",
            " [567.]\n",
            " [568.]\n",
            " [569.]\n",
            " [570.]\n",
            " [571.]\n",
            " [572.]\n",
            " [573.]\n",
            " [574.]\n",
            " [575.]\n",
            " [576.]\n",
            " [577.]\n",
            " [578.]\n",
            " [579.]\n",
            " [580.]\n",
            " [581.]\n",
            " [582.]\n",
            " [583.]]\n"
          ]
        }
      ]
    },
    {
      "cell_type": "markdown",
      "metadata": {
        "id": "LcfmybqDIZoO"
      },
      "source": [
        "##Initializing Model and Training"
      ]
    },
    {
      "cell_type": "code",
      "metadata": {
        "id": "I9rH3LBIIFVL"
      },
      "source": [
        "# Create linear regression object\n",
        "regr = linear_model.LinearRegression()\n",
        "\n",
        "# Train the model using the training sets\n",
        "regr.fit(date_x_train, vacc_y_train)\n",
        "\n",
        "# Make predictions using the testing set\n",
        "vacc_y_pred = regr.predict(date_x_test)"
      ],
      "execution_count": null,
      "outputs": []
    },
    {
      "cell_type": "markdown",
      "metadata": {
        "id": "Gtn_vSZrM5qr"
      },
      "source": [
        "##Outputting model coefficients, MSE, and $R^2$"
      ]
    },
    {
      "cell_type": "code",
      "metadata": {
        "colab": {
          "base_uri": "https://localhost:8080/"
        },
        "id": "o46O4J7BIllh",
        "outputId": "a3a6c926-def0-4f6f-95be-7b640d089327"
      },
      "source": [
        "# The coefficients\n",
        "print('Coefficients: \\n', regr.coef_)\n",
        "# The mean squared error\n",
        "print('Mean squared error: %.2f'\n",
        "      % mean_squared_error(vacc_y_test, vacc_y_pred))\n",
        "# The coefficient of determination: 1 is perfect prediction\n",
        "print('Coefficient of determination: %.2f'\n",
        "      % r2_score(vacc_y_test, vacc_y_pred))"
      ],
      "execution_count": null,
      "outputs": [
        {
          "output_type": "stream",
          "name": "stdout",
          "text": [
            "Coefficients: \n",
            " [[0.2772324]]\n",
            "Mean squared error: 104.76\n",
            "Coefficient of determination: -219.71\n"
          ]
        }
      ]
    },
    {
      "cell_type": "markdown",
      "metadata": {
        "id": "oirMEdj8NlYi"
      },
      "source": [
        "##Plotting the predicted values vs the test set"
      ]
    },
    {
      "cell_type": "code",
      "metadata": {
        "colab": {
          "base_uri": "https://localhost:8080/",
          "height": 252
        },
        "id": "nfD9I5oONcin",
        "outputId": "8b5e3e05-8b74-4b34-dffb-ebb876fa87b0"
      },
      "source": [
        "plt.scatter(date_x_test, vacc_y_test,  color='black')\n",
        "plt.plot(date_x_test, vacc_y_pred, color='blue', linewidth=3)\n",
        "\n",
        "plt.xticks(())\n",
        "plt.yticks(())\n",
        "\n",
        "plt.show()"
      ],
      "execution_count": null,
      "outputs": [
        {
          "output_type": "display_data",
          "data": {
            "image/png": "[encoded data removed]",
            "text/plain": [
              "<Figure size 432x288 with 1 Axes>"
            ]
          },
          "metadata": {}
        }
      ]
    },
    {
      "cell_type": "code",
      "metadata": {
        "id": "ZRfw1pSBN0KB"
      },
      "source": [
        ""
      ],
      "execution_count": null,
      "outputs": []
    }
  ]
}